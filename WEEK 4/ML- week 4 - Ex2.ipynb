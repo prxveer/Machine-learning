{
 "cells": [
  {
   "cell_type": "markdown",
   "id": "ecda8ca7",
   "metadata": {},
   "source": [
    "# Name: Praveer Raj\n",
    "# Reg: 230957002\n",
    "# Roll: 01\n",
    "# ML- week 4 - Ex2"
   ]
  },
  {
   "cell_type": "markdown",
   "id": "1784f62f",
   "metadata": {},
   "source": [
    "Consider the 'HousePrice.csv' dataset which describes the features and sale price of a house. \n",
    "Build a regression model using regularization to predict the value of the properties. \n",
    "1. Perform the preprocessing if required, scale the train and test data using standard scaler"
   ]
  },
  {
   "cell_type": "code",
   "execution_count": 24,
   "id": "355a4d7d",
   "metadata": {},
   "outputs": [],
   "source": [
    "import pandas as pd\n",
    "import numpy as np\n",
    "from sklearn.preprocessing import StandardScaler, LabelEncoder\n",
    "from sklearn.model_selection import train_test_split\n",
    "\n",
    "df = pd.read_csv(r\"C:\\Users\\maths\\Desktop\\ML week 4\\Housing.csv\")\n",
    "\n",
    "le = LabelEncoder()\n",
    "categorical_cols = ['mainroad', 'guestroom', 'basement', 'hotwaterheating', \n",
    "                   'airconditioning', 'prefarea', 'furnishingstatus']\n",
    "                   \n",
    "for col in categorical_cols:\n",
    "    df[col] = le.fit_transform(df[col])\n",
    "\n",
    "X = df.drop('price', axis=1)\n",
    "y = df['price']\n",
    "\n",
    "scaler = StandardScaler()\n",
    "X_scaled = scaler.fit_transform(X)"
   ]
  },
  {
   "cell_type": "markdown",
   "id": "2fc148c9",
   "metadata": {},
   "source": [
    "2. Split the dataset into train size of 70% and test size of 30% and Apply the Ridge and \n",
    "Lasso regression and fit the model containing all independent variables. "
   ]
  },
  {
   "cell_type": "code",
   "execution_count": 25,
   "id": "0b2fbe77",
   "metadata": {},
   "outputs": [
    {
     "name": "stdout",
     "output_type": "stream",
     "text": [
      "Models trained successfully with Ridge and Lasso Regression.\n"
     ]
    }
   ],
   "source": [
    "\n",
    "from sklearn.model_selection import train_test_split\n",
    "from sklearn.preprocessing import StandardScaler\n",
    "from sklearn.linear_model import Ridge, Lasso\n",
    "\n",
    "X_train, X_test, y_train, y_test = train_test_split(X, y, test_size=0.3, random_state=42)\n",
    "\n",
    "scaler = StandardScaler()\n",
    "X_train_scaled = scaler.fit_transform(X_train)\n",
    "X_test_scaled = scaler.transform(X_test)\n",
    "\n",
    "ridge_model = Ridge(alpha=1.0)\n",
    "lasso_model = Lasso(alpha=1.0)\n",
    "\n",
    "ridge_model.fit(X_train_scaled, y_train)\n",
    "lasso_model.fit(X_train_scaled, y_train)\n",
    "\n",
    "print(\"Models trained successfully with Ridge and Lasso Regression.\")\n"
   ]
  },
  {
   "cell_type": "markdown",
   "id": "d0120faf",
   "metadata": {},
   "source": [
    "3. Make predictions on test data “HousePriceTest.csv” and tabulate performance of both models on unseen data."
   ]
  },
  {
   "cell_type": "code",
   "execution_count": 26,
   "id": "ac89ccee",
   "metadata": {},
   "outputs": [
    {
     "name": "stdout",
     "output_type": "stream",
     "text": [
      "\n",
      "Ridge Regression Performance Metrics:\n",
      "RMSE: 3092229859.49\n",
      "R2 Score: -2220393.0685\n",
      "\n",
      "Lasso Regression Performance Metrics:\n",
      "RMSE: 3099398713.57\n",
      "R2 Score: -2230700.2793\n",
      "\n",
      "Model Comparison:\n",
      "              Model          RMSE      R2 Score\n",
      "0  Ridge Regression  3.092230e+09 -2.220393e+06\n",
      "1  Lasso Regression  3.099399e+09 -2.230700e+06\n"
     ]
    },
    {
     "name": "stderr",
     "output_type": "stream",
     "text": [
      "C:\\ProgramData\\Anaconda3\\lib\\site-packages\\sklearn\\base.py:443: UserWarning: X has feature names, but Ridge was fitted without feature names\n",
      "  warnings.warn(\n",
      "C:\\ProgramData\\Anaconda3\\lib\\site-packages\\sklearn\\base.py:443: UserWarning: X has feature names, but Lasso was fitted without feature names\n",
      "  warnings.warn(\n"
     ]
    }
   ],
   "source": [
    "ridge_pred = ridge_model.predict(X_test)\n",
    "lasso_pred = lasso_model.predict(X_test)\n",
    "\n",
    "def evaluate_model(y_true, y_pred, model_name):\n",
    "    mse = mean_squared_error(y_true, y_pred)\n",
    "    rmse = np.sqrt(mse)\n",
    "    r2 = r2_score(y_true, y_pred)\n",
    "    \n",
    "    print(f\"\\n{model_name} Performance Metrics:\")\n",
    "    print(f\"RMSE: {rmse:.2f}\")\n",
    "    print(f\"R2 Score: {r2:.4f}\")\n",
    "    \n",
    "evaluate_model(y_test, ridge_pred, \"Ridge Regression\")\n",
    "evaluate_model(y_test, lasso_pred, \"Lasso Regression\")\n",
    "\n",
    "results_df = pd.DataFrame({\n",
    "    'Model': ['Ridge Regression', 'Lasso Regression'],\n",
    "    'RMSE': [np.sqrt(mean_squared_error(y_test, ridge_pred)),\n",
    "             np.sqrt(mean_squared_error(y_test, lasso_pred))],\n",
    "    'R2 Score': [r2_score(y_test, ridge_pred),\n",
    "                 r2_score(y_test, lasso_pred)]\n",
    "})\n",
    "\n",
    "print(\"\\nModel Comparison:\")\n",
    "print(results_df)"
   ]
  },
  {
   "cell_type": "code",
   "execution_count": null,
   "id": "accd9c98",
   "metadata": {},
   "outputs": [],
   "source": []
  }
 ],
 "metadata": {
  "kernelspec": {
   "display_name": "Python 3 (ipykernel)",
   "language": "python",
   "name": "python3"
  },
  "language_info": {
   "codemirror_mode": {
    "name": "ipython",
    "version": 3
   },
   "file_extension": ".py",
   "mimetype": "text/x-python",
   "name": "python",
   "nbconvert_exporter": "python",
   "pygments_lexer": "ipython3",
   "version": "3.9.13"
  }
 },
 "nbformat": 4,
 "nbformat_minor": 5
}
